{
  "nbformat": 4,
  "nbformat_minor": 0,
  "metadata": {
    "colab": {
      "provenance": [],
      "authorship_tag": "ABX9TyMhHWMHm3ZF4wHE40tTBivj"
    },
    "kernelspec": {
      "name": "python3",
      "display_name": "Python 3"
    },
    "language_info": {
      "name": "python"
    }
  },
  "cells": [
    {
      "cell_type": "markdown",
      "source": [
        "## PANDAS\n",
        "DATE TIME\n",
        "2025-01-11\n",
        "2025-01-11\n",
        "2025-01-11\n",
        "2025-01-11\n",
        "apple\n",
        "sunday Jan 2025"
      ],
      "metadata": {
        "id": "B1us4lGeKTYU"
      }
    },
    {
      "cell_type": "code",
      "source": [
        "import pandas as pd"
      ],
      "metadata": {
        "id": "AuVVAoDfKMCp"
      },
      "execution_count": 2,
      "outputs": []
    },
    {
      "cell_type": "code",
      "source": [
        "data = {\n",
        "    \"cars\": [\"bmw\", \"honda\", \"suzuki\", \"byd\"],\n",
        "    \"models\": [\"2007\", \"2008\", \"2008\", \"2022\"],\n",
        "    \"passen\": [\"4\", \"5\", \"6\", \"7\"]\n",
        "}\n",
        "print(data)"
      ],
      "metadata": {
        "colab": {
          "base_uri": "https://localhost:8080/"
        },
        "id": "co5hg-zcLZUs",
        "outputId": "64cf6b66-672d-4969-cef4-cc8df12f08cc"
      },
      "execution_count": 3,
      "outputs": [
        {
          "output_type": "stream",
          "name": "stdout",
          "text": [
            "{'cars': ['bmw', 'honda', 'suzuki', 'byd'], 'models': ['2007', '2008', '2008', '2022'], 'passen': ['4', '5', '6', '7']}\n"
          ]
        }
      ]
    },
    {
      "cell_type": "code",
      "source": [
        "# convert this dict to dataframe\n",
        "df = pd.DataFrame(data)\n",
        "print(df)"
      ],
      "metadata": {
        "colab": {
          "base_uri": "https://localhost:8080/"
        },
        "id": "Tq3zzMNmL6SB",
        "outputId": "ff7acaf6-c77b-491b-ad81-19837377c74d"
      },
      "execution_count": 4,
      "outputs": [
        {
          "output_type": "stream",
          "name": "stdout",
          "text": [
            "     cars models passen\n",
            "0     bmw   2007      4\n",
            "1   honda   2008      5\n",
            "2  suzuki   2008      6\n",
            "3     byd   2022      7\n"
          ]
        }
      ]
    },
    {
      "cell_type": "code",
      "source": [
        "df_to_csv = df.to_csv(\"cars.csv\")"
      ],
      "metadata": {
        "id": "j3rPEMD1MMHK"
      },
      "execution_count": 5,
      "outputs": []
    },
    {
      "cell_type": "code",
      "source": [
        "df = pd.read_csv(\"cars.csv\")\n",
        "print(df)"
      ],
      "metadata": {
        "colab": {
          "base_uri": "https://localhost:8080/"
        },
        "id": "rX5ZO62xMZBS",
        "outputId": "496c598e-d0e4-4042-8f95-45a086380831"
      },
      "execution_count": 7,
      "outputs": [
        {
          "output_type": "stream",
          "name": "stdout",
          "text": [
            "   Unnamed: 0    cars  models  passen\n",
            "0           0     bmw    2007       4\n",
            "1           1   honda    2008       5\n",
            "2           2  suzuki    2008       6\n",
            "3           3     byd    2022       7\n"
          ]
        }
      ]
    },
    {
      "cell_type": "code",
      "source": [
        "# check the version of Pandas\n",
        "pd.__version__"
      ],
      "metadata": {
        "colab": {
          "base_uri": "https://localhost:8080/",
          "height": 35
        },
        "id": "Q8lRHyBdNDBv",
        "outputId": "55d30bb3-9855-4234-e3af-02f7fc5b7f0e"
      },
      "execution_count": 8,
      "outputs": [
        {
          "output_type": "execute_result",
          "data": {
            "text/plain": [
              "'2.2.2'"
            ],
            "application/vnd.google.colaboratory.intrinsic+json": {
              "type": "string"
            }
          },
          "metadata": {},
          "execution_count": 8
        }
      ]
    },
    {
      "cell_type": "code",
      "source": [
        "# Pandas Series\n",
        "import pandas as pd\n",
        "a = [1, 7, 2]\n",
        "myvar = pd.Series(a)\n",
        "print(myvar)"
      ],
      "metadata": {
        "colab": {
          "base_uri": "https://localhost:8080/"
        },
        "id": "2NMq-hjeN6dI",
        "outputId": "5f1d79a4-759d-43b6-f0e9-2025f5babba1"
      },
      "execution_count": 9,
      "outputs": [
        {
          "output_type": "stream",
          "name": "stdout",
          "text": [
            "0    1\n",
            "1    7\n",
            "2    2\n",
            "dtype: int64\n"
          ]
        }
      ]
    },
    {
      "cell_type": "code",
      "source": [
        "# Create labels in pandas with index\n",
        "a = [1, 7, 2]\n",
        "myvar = pd.Series(a, index = [\"x\", \"y\", \"z\"])\n",
        "print(myvar)"
      ],
      "metadata": {
        "colab": {
          "base_uri": "https://localhost:8080/"
        },
        "id": "qiJ3ezSYOhpX",
        "outputId": "a62f9ab5-c815-43fc-a857-5fa58d46b1c2"
      },
      "execution_count": 10,
      "outputs": [
        {
          "output_type": "stream",
          "name": "stdout",
          "text": [
            "x    1\n",
            "y    7\n",
            "z    2\n",
            "dtype: int64\n"
          ]
        }
      ]
    },
    {
      "cell_type": "code",
      "source": [
        "print(myvar[\"x\"])"
      ],
      "metadata": {
        "colab": {
          "base_uri": "https://localhost:8080/"
        },
        "id": "yPRy890SO-N5",
        "outputId": "d53541aa-d1c1-45ef-aaa7-fb0228939e83"
      },
      "execution_count": 11,
      "outputs": [
        {
          "output_type": "stream",
          "name": "stdout",
          "text": [
            "1\n"
          ]
        }
      ]
    },
    {
      "cell_type": "markdown",
      "source": [
        "## DataFrame"
      ],
      "metadata": {
        "id": "hWbUCZ0SQf9U"
      }
    },
    {
      "cell_type": "code",
      "source": [
        "import pandas as pd\n",
        "data = {\n",
        "    \"calories\": [420, 380, 390],\n",
        "    \"duration\": [50, 40, 45]\n",
        "}\n",
        "df = pd.DataFrame(data)\n",
        "print(df)"
      ],
      "metadata": {
        "colab": {
          "base_uri": "https://localhost:8080/"
        },
        "id": "HhB_Uoi7QlLU",
        "outputId": "f49d2ac6-d0ad-46bb-a001-093737860136"
      },
      "execution_count": 12,
      "outputs": [
        {
          "output_type": "stream",
          "name": "stdout",
          "text": [
            "   calories  duration\n",
            "0       420        50\n",
            "1       380        40\n",
            "2       390        45\n"
          ]
        }
      ]
    },
    {
      "cell_type": "code",
      "source": [
        "# locarte ROW using loc function\n",
        "print(df.loc[2])"
      ],
      "metadata": {
        "colab": {
          "base_uri": "https://localhost:8080/"
        },
        "id": "ylPb2QRFQomJ",
        "outputId": "2c6020a9-d5fd-4cba-d1c5-4484ebcbe260"
      },
      "execution_count": 14,
      "outputs": [
        {
          "output_type": "stream",
          "name": "stdout",
          "text": [
            "calories    390\n",
            "duration     45\n",
            "Name: 2, dtype: int64\n"
          ]
        }
      ]
    },
    {
      "cell_type": "code",
      "source": [
        "# return 0 and 1\n",
        "print(df.loc[[0, 1]])"
      ],
      "metadata": {
        "colab": {
          "base_uri": "https://localhost:8080/"
        },
        "id": "CXGmZJdSRBpO",
        "outputId": "b9bca33a-2de4-42cf-ff45-f9bdf78e185f"
      },
      "execution_count": 15,
      "outputs": [
        {
          "output_type": "stream",
          "name": "stdout",
          "text": [
            "   calories  duration\n",
            "0       420        50\n",
            "1       380        40\n"
          ]
        }
      ]
    },
    {
      "cell_type": "code",
      "source": [
        "import pandas as pd\n",
        "data = {\n",
        "    \"calories\": [420, 380, 390],\n",
        "    \"duration\": [50, 40, 45]\n",
        "}"
      ],
      "metadata": {
        "id": "rXdAX49vSCTe"
      },
      "execution_count": 16,
      "outputs": []
    },
    {
      "cell_type": "code",
      "source": [
        "df = pd.DataFrame(data, index = [\"day1\", \"day2\", \"day3\"])\n",
        "print(df)"
      ],
      "metadata": {
        "colab": {
          "base_uri": "https://localhost:8080/"
        },
        "id": "zNi9qCD5SzyH",
        "outputId": "8670c921-2f1a-4951-9ea9-43d4a43d5a18"
      },
      "execution_count": 17,
      "outputs": [
        {
          "output_type": "stream",
          "name": "stdout",
          "text": [
            "      calories  duration\n",
            "day1       420        50\n",
            "day2       380        40\n",
            "day3       390        45\n"
          ]
        }
      ]
    },
    {
      "cell_type": "code",
      "source": [
        "print(df.loc[\"day2\"])"
      ],
      "metadata": {
        "colab": {
          "base_uri": "https://localhost:8080/"
        },
        "id": "J0TTn9UzS5Gq",
        "outputId": "e2fcb796-72ec-4743-cc2e-ef0f7a094d79"
      },
      "execution_count": 19,
      "outputs": [
        {
          "output_type": "stream",
          "name": "stdout",
          "text": [
            "calories    380\n",
            "duration     40\n",
            "Name: day2, dtype: int64\n"
          ]
        }
      ]
    },
    {
      "cell_type": "code",
      "source": [
        "print(df.loc[\"day1\"])\n",
        "print(df.loc[\"day3\"])"
      ],
      "metadata": {
        "colab": {
          "base_uri": "https://localhost:8080/"
        },
        "id": "tfAyZ8UiTNMc",
        "outputId": "4220d0a1-0d1a-4011-e502-47c4ac867b44"
      },
      "execution_count": 20,
      "outputs": [
        {
          "output_type": "stream",
          "name": "stdout",
          "text": [
            "calories    420\n",
            "duration     50\n",
            "Name: day1, dtype: int64\n",
            "calories    390\n",
            "duration     45\n",
            "Name: day3, dtype: int64\n"
          ]
        }
      ]
    },
    {
      "cell_type": "code",
      "source": [],
      "metadata": {
        "id": "Jcr4cYMmUCN9"
      },
      "execution_count": null,
      "outputs": []
    },
    {
      "cell_type": "markdown",
      "source": [
        "Data Cleaning with Pandas\n",
        "\n",
        "bad data can be\n",
        "- empty cells\n",
        "- data in wrong format\n",
        "- wrong data\n",
        "- Duplicates"
      ],
      "metadata": {
        "id": "IDO53vs-UgwP"
      }
    },
    {
      "cell_type": "code",
      "source": [
        "import pandas as pd\n",
        "df = pd.read_csv(\"pandas_dataset.csv\")\n",
        "print(df)"
      ],
      "metadata": {
        "colab": {
          "base_uri": "https://localhost:8080/"
        },
        "id": "j7OcykEVU9Ma",
        "outputId": "2cd9f93a-b165-462e-ac94-be4e4d281e52"
      },
      "execution_count": 22,
      "outputs": [
        {
          "output_type": "stream",
          "name": "stdout",
          "text": [
            "    Duration         Date  Pulse  Maxpulse  Calories\n",
            "0         60  2020/12/01'    110       130     409.1\n",
            "1         60  2020/12/02'    117       145     479.0\n",
            "2         60  2020/12/03'    103       135     340.0\n",
            "3         45  2020/12/04'    109       175     282.4\n",
            "4         45  2020/12/05'    117       148     406.0\n",
            "5         60  2020/12/06'    102       127     300.0\n",
            "6         60  2020/12/07'    110       136     374.0\n",
            "7        450  2020/12/08'    104       134     253.3\n",
            "8         30  2020/12/09'    109       133     195.1\n",
            "9         60  2020/12/10'     98       124     269.0\n",
            "10        60  2020/12/11'    103       147     329.3\n",
            "11        60  2020/12/12'    100       120     250.7\n",
            "12        60  2020/12/12'    100       120     250.7\n",
            "13        60  2020/12/13'    106       128     345.3\n",
            "14        60  2020/12/14'    104       132     379.3\n",
            "15        60  2020/12/15'     98       123     275.0\n",
            "16        60  2020/12/16'     98       120     215.2\n",
            "17        60  2020/12/17'    100       120     300.0\n",
            "18        45  2020/12/18'     90       112       NaN\n",
            "19        60  2020/12/19'    103       123     323.0\n",
            "20        45  2020/12/20'     97       125     243.0\n",
            "21        60  2020/12/21'    108       131     364.2\n",
            "22        45          NaN    100       119     282.0\n",
            "23        60  2020/12/23'    130       101     300.0\n",
            "24        45  2020/12/24'    105       132     246.0\n",
            "25        60  2020/12/25'    102       126     334.5\n",
            "26        60   12/26/2020    100       120     250.0\n",
            "27        60  2020/12/27'     92       118     241.0\n",
            "28        60  2020/12/28'    103       132       NaN\n",
            "29        60  2020/12/29'    100       132     280.0\n",
            "30        60  2020/12/30'    102       129     380.3\n",
            "31        60  2020/12/31'     92       115     243.0\n"
          ]
        }
      ]
    },
    {
      "cell_type": "code",
      "source": [
        "print(df.head(10))"
      ],
      "metadata": {
        "colab": {
          "base_uri": "https://localhost:8080/"
        },
        "id": "7Pu4dmjfZsV2",
        "outputId": "02ecac93-af1d-4726-caf7-6fae9fb09698"
      },
      "execution_count": 23,
      "outputs": [
        {
          "output_type": "stream",
          "name": "stdout",
          "text": [
            "   Duration         Date  Pulse  Maxpulse  Calories\n",
            "0        60  2020/12/01'    110       130     409.1\n",
            "1        60  2020/12/02'    117       145     479.0\n",
            "2        60  2020/12/03'    103       135     340.0\n",
            "3        45  2020/12/04'    109       175     282.4\n",
            "4        45  2020/12/05'    117       148     406.0\n",
            "5        60  2020/12/06'    102       127     300.0\n",
            "6        60  2020/12/07'    110       136     374.0\n",
            "7       450  2020/12/08'    104       134     253.3\n",
            "8        30  2020/12/09'    109       133     195.1\n",
            "9        60  2020/12/10'     98       124     269.0\n"
          ]
        }
      ]
    },
    {
      "cell_type": "code",
      "source": [
        "print(df.tail(5))"
      ],
      "metadata": {
        "colab": {
          "base_uri": "https://localhost:8080/"
        },
        "id": "7pCHRZRKZ9ZR",
        "outputId": "7ec06662-70ab-48f0-9dec-f1cd291d1082"
      },
      "execution_count": 24,
      "outputs": [
        {
          "output_type": "stream",
          "name": "stdout",
          "text": [
            "    Duration         Date  Pulse  Maxpulse  Calories\n",
            "27        60  2020/12/27'     92       118     241.0\n",
            "28        60  2020/12/28'    103       132       NaN\n",
            "29        60  2020/12/29'    100       132     280.0\n",
            "30        60  2020/12/30'    102       129     380.3\n",
            "31        60  2020/12/31'     92       115     243.0\n"
          ]
        }
      ]
    },
    {
      "cell_type": "code",
      "source": [],
      "metadata": {
        "id": "4rGIi3OzaCkr"
      },
      "execution_count": null,
      "outputs": []
    },
    {
      "cell_type": "markdown",
      "source": [
        "Problems in our dataset\n",
        "- data contains some empty cells\n",
        "- data formatting has issue\n",
        "- row 7 has wrong data\n",
        "- data redundancy in row 11 and row 12\n"
      ],
      "metadata": {
        "id": "r_7Z1jIUaNDh"
      }
    }
  ]
}